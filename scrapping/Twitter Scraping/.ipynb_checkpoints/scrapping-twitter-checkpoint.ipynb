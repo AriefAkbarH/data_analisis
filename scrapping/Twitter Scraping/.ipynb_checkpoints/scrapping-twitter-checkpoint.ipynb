{
 "cells": [
  {
   "cell_type": "markdown",
   "metadata": {},
   "source": [
    "# Tugas Scraping"
   ]
  },
  {
   "cell_type": "markdown",
   "metadata": {},
   "source": [
    "# Scraping Twitter - dengan tema \"Sumpah Pemuda\""
   ]
  },
  {
   "cell_type": "code",
   "execution_count": 3,
   "metadata": {},
   "outputs": [],
   "source": [
    "from twython import Twython\n",
    "import json"
   ]
  },
  {
   "cell_type": "code",
   "execution_count": 4,
   "metadata": {},
   "outputs": [],
   "source": [
    "TWITTER_APP_KEY = 'my API KEY'\n",
    "TWITTER_APP_KEY_SECRET = 'my API KEY SECRET' \n",
    "TWITTER_ACCESS_TOKEN = 'my ACCESS TOKEN'\n",
    "TWITTER_ACCESS_TOKEN_SECRET = 'my ACCESS TOKEN SECRET'\n",
    "\n",
    "t = Twython(app_key=TWITTER_APP_KEY, \n",
    "            app_secret=TWITTER_APP_KEY_SECRET, \n",
    "            oauth_token=TWITTER_ACCESS_TOKEN, \n",
    "            oauth_token_secret=TWITTER_ACCESS_TOKEN_SECRET)"
   ]
  },
  {
   "cell_type": "markdown",
   "metadata": {},
   "source": [
    "# Melakukan searching dengan Twitter API\n",
    "Di sini akan dilakukan pencarian yang berhubungan dengan term \"tsunami palu\", di sini untuk contoh saja akan diambil 100 tweet mengenai tsunami palu"
   ]
  },
  {
   "cell_type": "code",
   "execution_count": 63,
   "metadata": {},
   "outputs": [],
   "source": [
    "term = 'harbolnas'\n",
    "tweet_metadatas = t.search(q=term,count=100,result_type='recent')"
   ]
  },
  {
   "cell_type": "markdown",
   "metadata": {},
   "source": [
    "# Mengambil salah satu tweet sebagai JSON"
   ]
  },
  {
   "cell_type": "code",
   "execution_count": 64,
   "metadata": {},
   "outputs": [
    {
     "name": "stdout",
     "output_type": "stream",
     "text": [
      "{'created_at': 'Sat Dec 07 14:03:16 +0000 2019', 'id': 1203314032884637696, 'id_str': '1203314032884637696', 'text': 'RT @CIMBNiaga: Gak perlu tunggu bonus akhir tahun buat belanja di HARBOLNAS 2019! Diskon hingga Rp1,5 juta dan Cashback hingga Rp520 ribu d…', 'truncated': False, 'entities': {'hashtags': [], 'symbols': [], 'user_mentions': [{'screen_name': 'CIMBNiaga', 'name': 'CIMB Niaga', 'id': 949032626, 'id_str': '949032626', 'indices': [3, 13]}], 'urls': []}, 'metadata': {'iso_language_code': 'in', 'result_type': 'recent'}, 'source': '<a href=\"http://twitter.com/download/android\" rel=\"nofollow\">Twitter for Android</a>', 'in_reply_to_status_id': None, 'in_reply_to_status_id_str': None, 'in_reply_to_user_id': None, 'in_reply_to_user_id_str': None, 'in_reply_to_screen_name': None, 'user': {'id': 879385759937028097, 'id_str': '879385759937028097', 'name': 'فولان', 'screen_name': 'fuulllan', 'location': 'Indonesia', 'description': \"Faiza 'azamta fatawakal 'alallah\", 'url': None, 'entities': {'description': {'urls': []}}, 'protected': False, 'followers_count': 151, 'friends_count': 444, 'listed_count': 0, 'created_at': 'Mon Jun 26 17:07:58 +0000 2017', 'favourites_count': 4612, 'utc_offset': None, 'time_zone': None, 'geo_enabled': True, 'verified': False, 'statuses_count': 6240, 'lang': None, 'contributors_enabled': False, 'is_translator': False, 'is_translation_enabled': False, 'profile_background_color': 'F5F8FA', 'profile_background_image_url': None, 'profile_background_image_url_https': None, 'profile_background_tile': False, 'profile_image_url': 'http://pbs.twimg.com/profile_images/1162629202383798272/yRk1_M6x_normal.jpg', 'profile_image_url_https': 'https://pbs.twimg.com/profile_images/1162629202383798272/yRk1_M6x_normal.jpg', 'profile_banner_url': 'https://pbs.twimg.com/profile_banners/879385759937028097/1555144549', 'profile_link_color': '1DA1F2', 'profile_sidebar_border_color': 'C0DEED', 'profile_sidebar_fill_color': 'DDEEF6', 'profile_text_color': '333333', 'profile_use_background_image': True, 'has_extended_profile': True, 'default_profile': True, 'default_profile_image': False, 'following': False, 'follow_request_sent': False, 'notifications': False, 'translator_type': 'none'}, 'geo': None, 'coordinates': None, 'place': None, 'contributors': None, 'retweeted_status': {'created_at': 'Sat Dec 07 13:49:12 +0000 2019', 'id': 1203310492145483777, 'id_str': '1203310492145483777', 'text': 'Gak perlu tunggu bonus akhir tahun buat belanja di HARBOLNAS 2019! Diskon hingga Rp1,5 juta dan Cashback hingga Rp5… https://t.co/WwwkddWF12', 'truncated': True, 'entities': {'hashtags': [], 'symbols': [], 'user_mentions': [], 'urls': [{'url': 'https://t.co/WwwkddWF12', 'expanded_url': 'https://twitter.com/i/web/status/1203310492145483777', 'display_url': 'twitter.com/i/web/status/1…', 'indices': [117, 140]}]}, 'metadata': {'iso_language_code': 'in', 'result_type': 'recent'}, 'source': '<a href=\"http://twitter.com/download/android\" rel=\"nofollow\">Twitter for Android</a>', 'in_reply_to_status_id': None, 'in_reply_to_status_id_str': None, 'in_reply_to_user_id': None, 'in_reply_to_user_id_str': None, 'in_reply_to_screen_name': None, 'user': {'id': 949032626, 'id_str': '949032626', 'name': 'CIMB Niaga', 'screen_name': 'CIMBNiaga', 'location': 'Jakarta, Indonesia', 'description': 'Selamat datang di akun resmi CIMB Niaga. Kami siap membantu Anda setiap hari selama 24 jam.\\n\\nCIMB Niaga terdaftar dan diawasi oleh OJK.', 'url': 'https://t.co/uafi1ZbWqt', 'entities': {'url': {'urls': [{'url': 'https://t.co/uafi1ZbWqt', 'expanded_url': 'http://www.cimbniaga.co.id', 'display_url': 'cimbniaga.co.id', 'indices': [0, 23]}]}, 'description': {'urls': []}}, 'protected': False, 'followers_count': 71886, 'friends_count': 4, 'listed_count': 110, 'created_at': 'Thu Nov 15 04:16:54 +0000 2012', 'favourites_count': 34, 'utc_offset': None, 'time_zone': None, 'geo_enabled': True, 'verified': True, 'statuses_count': 126675, 'lang': None, 'contributors_enabled': False, 'is_translator': False, 'is_translation_enabled': False, 'profile_background_color': 'C0DEED', 'profile_background_image_url': 'http://abs.twimg.com/images/themes/theme1/bg.png', 'profile_background_image_url_https': 'https://abs.twimg.com/images/themes/theme1/bg.png', 'profile_background_tile': False, 'profile_image_url': 'http://pbs.twimg.com/profile_images/687118548150308864/qJcLRugz_normal.jpg', 'profile_image_url_https': 'https://pbs.twimg.com/profile_images/687118548150308864/qJcLRugz_normal.jpg', 'profile_banner_url': 'https://pbs.twimg.com/profile_banners/949032626/1572849633', 'profile_link_color': '0084B4', 'profile_sidebar_border_color': '000000', 'profile_sidebar_fill_color': 'DDEEF6', 'profile_text_color': '333333', 'profile_use_background_image': True, 'has_extended_profile': False, 'default_profile': False, 'default_profile_image': False, 'following': False, 'follow_request_sent': False, 'notifications': False, 'translator_type': 'none'}, 'geo': None, 'coordinates': None, 'place': None, 'contributors': None, 'is_quote_status': False, 'retweet_count': 2, 'favorite_count': 0, 'favorited': False, 'retweeted': False, 'possibly_sensitive': False, 'lang': 'in'}, 'is_quote_status': False, 'retweet_count': 2, 'favorite_count': 0, 'favorited': False, 'retweeted': False, 'lang': 'in'}\n"
     ]
    }
   ],
   "source": [
    "print(tweet_metadatas['statuses'][0])"
   ]
  },
  {
   "cell_type": "markdown",
   "metadata": {},
   "source": [
    "# Mengambil salah satu isi tweet"
   ]
  },
  {
   "cell_type": "code",
   "execution_count": 65,
   "metadata": {},
   "outputs": [
    {
     "name": "stdout",
     "output_type": "stream",
     "text": [
      "DESEMBER SALE.... \n",
      "Masyaa alloh.... ✊✊✊\n",
      "\n",
      "Ayooo jangan biarin kesempatan emas ini... \n",
      "#harbolnas \n",
      "#😍\n"
     ]
    }
   ],
   "source": [
    "print(tweet_metadatas['statuses'][10]['text'])"
   ]
  },
  {
   "cell_type": "markdown",
   "metadata": {},
   "source": [
    "## Mengambil username dari yang ngetweet"
   ]
  },
  {
   "cell_type": "code",
   "execution_count": 66,
   "metadata": {},
   "outputs": [
    {
     "name": "stdout",
     "output_type": "stream",
     "text": [
      "fuulllan\n"
     ]
    }
   ],
   "source": [
    "print(tweet_metadatas['statuses'][0]['user']['screen_name'])"
   ]
  },
  {
   "cell_type": "markdown",
   "metadata": {},
   "source": [
    "## Mendapatkan jumlah following dan follower dari user yang ngetweet"
   ]
  },
  {
   "cell_type": "code",
   "execution_count": 67,
   "metadata": {},
   "outputs": [
    {
     "name": "stdout",
     "output_type": "stream",
     "text": [
      "444 151\n"
     ]
    }
   ],
   "source": [
    "print(tweet_metadatas['statuses'][0]['user']['friends_count'],tweet_metadatas['statuses'][0]['user']['followers_count'],)"
   ]
  },
  {
   "cell_type": "markdown",
   "metadata": {},
   "source": [
    "# Menyimpan Data hasil Scrap ke dalam tabel\n",
    "Data yang akan disimpan adalah tweet dan siapa yg melakukan tweet"
   ]
  },
  {
   "cell_type": "markdown",
   "metadata": {},
   "source": [
    "## menyimpan data yang diperoleh ke dalam list of dictionary"
   ]
  },
  {
   "cell_type": "code",
   "execution_count": 68,
   "metadata": {},
   "outputs": [],
   "source": [
    "data_list = []\n",
    "\n",
    "for tweet in tweet_metadatas['statuses']:\n",
    "    meta = dict()\n",
    "    meta['tweet'] = tweet['text']\n",
    "    meta['timestamp'] = tweet['created_at']\n",
    "    meta['username'] = tweet['user']['screen_name']\n",
    "    \n",
    "    data_list.append(meta)"
   ]
  },
  {
   "cell_type": "markdown",
   "metadata": {},
   "source": [
    "## membuat tabel untuk menyimpan data"
   ]
  },
  {
   "cell_type": "code",
   "execution_count": 69,
   "metadata": {},
   "outputs": [
    {
     "data": {
      "text/html": [
       "<div>\n",
       "<style scoped>\n",
       "    .dataframe tbody tr th:only-of-type {\n",
       "        vertical-align: middle;\n",
       "    }\n",
       "\n",
       "    .dataframe tbody tr th {\n",
       "        vertical-align: top;\n",
       "    }\n",
       "\n",
       "    .dataframe thead th {\n",
       "        text-align: right;\n",
       "    }\n",
       "</style>\n",
       "<table border=\"1\" class=\"dataframe\">\n",
       "  <thead>\n",
       "    <tr style=\"text-align: right;\">\n",
       "      <th></th>\n",
       "      <th>tweet</th>\n",
       "      <th>timestamp</th>\n",
       "      <th>username</th>\n",
       "    </tr>\n",
       "  </thead>\n",
       "  <tbody>\n",
       "    <tr>\n",
       "      <th>0</th>\n",
       "      <td>RT @CIMBNiaga: Gak perlu tunggu bonus akhir ta...</td>\n",
       "      <td>Sat Dec 07 14:03:16 +0000 2019</td>\n",
       "      <td>fuulllan</td>\n",
       "    </tr>\n",
       "    <tr>\n",
       "      <th>1</th>\n",
       "      <td>Promo :\\nHarbolnas (Hari Belanja Online Nasion...</td>\n",
       "      <td>Sat Dec 07 13:49:36 +0000 2019</td>\n",
       "      <td>fourtyfiveradio</td>\n",
       "    </tr>\n",
       "    <tr>\n",
       "      <th>2</th>\n",
       "      <td>Gak perlu tunggu bonus akhir tahun buat belanj...</td>\n",
       "      <td>Sat Dec 07 13:49:12 +0000 2019</td>\n",
       "      <td>CIMBNiaga</td>\n",
       "    </tr>\n",
       "    <tr>\n",
       "      <th>3</th>\n",
       "      <td>@francle4897 apatuh 12.12? apatuh harbolnas?!!...</td>\n",
       "      <td>Sat Dec 07 13:38:53 +0000 2019</td>\n",
       "      <td>agasvyra</td>\n",
       "    </tr>\n",
       "    <tr>\n",
       "      <th>4</th>\n",
       "      <td>RT @detikfinance: \"Beli produk dalam negeri sa...</td>\n",
       "      <td>Sat Dec 07 13:37:25 +0000 2019</td>\n",
       "      <td>faisalsalim861</td>\n",
       "    </tr>\n",
       "    <tr>\n",
       "      <th>...</th>\n",
       "      <td>...</td>\n",
       "      <td>...</td>\n",
       "      <td>...</td>\n",
       "    </tr>\n",
       "    <tr>\n",
       "      <th>95</th>\n",
       "      <td>Siap-Siap! Lazada Bakal Hadirkan Voucher Belan...</td>\n",
       "      <td>Fri Dec 06 19:32:32 +0000 2019</td>\n",
       "      <td>cahgadget</td>\n",
       "    </tr>\n",
       "    <tr>\n",
       "      <th>96</th>\n",
       "      <td>Harbolnas 2019 : Lazada Sedia Reward Hingga Rp...</td>\n",
       "      <td>Fri Dec 06 19:14:03 +0000 2019</td>\n",
       "      <td>YoungsterID_</td>\n",
       "    </tr>\n",
       "    <tr>\n",
       "      <th>97</th>\n",
       "      <td>Siap-Siap! Lazada Bakal Hadirkan Voucher Belan...</td>\n",
       "      <td>Fri Dec 06 19:00:25 +0000 2019</td>\n",
       "      <td>GizmologiID</td>\n",
       "    </tr>\n",
       "    <tr>\n",
       "      <th>98</th>\n",
       "      <td>Lazada 12.12: Wujudkan Keinginanmu dengan Disk...</td>\n",
       "      <td>Fri Dec 06 18:46:17 +0000 2019</td>\n",
       "      <td>phrinses</td>\n",
       "    </tr>\n",
       "    <tr>\n",
       "      <th>99</th>\n",
       "      <td>Lebih dari itu, di tahun 2015 pun kami meresmi...</td>\n",
       "      <td>Fri Dec 06 18:25:02 +0000 2019</td>\n",
       "      <td>mrbambang</td>\n",
       "    </tr>\n",
       "  </tbody>\n",
       "</table>\n",
       "<p>100 rows × 3 columns</p>\n",
       "</div>"
      ],
      "text/plain": [
       "                                                tweet  \\\n",
       "0   RT @CIMBNiaga: Gak perlu tunggu bonus akhir ta...   \n",
       "1   Promo :\\nHarbolnas (Hari Belanja Online Nasion...   \n",
       "2   Gak perlu tunggu bonus akhir tahun buat belanj...   \n",
       "3   @francle4897 apatuh 12.12? apatuh harbolnas?!!...   \n",
       "4   RT @detikfinance: \"Beli produk dalam negeri sa...   \n",
       "..                                                ...   \n",
       "95  Siap-Siap! Lazada Bakal Hadirkan Voucher Belan...   \n",
       "96  Harbolnas 2019 : Lazada Sedia Reward Hingga Rp...   \n",
       "97  Siap-Siap! Lazada Bakal Hadirkan Voucher Belan...   \n",
       "98  Lazada 12.12: Wujudkan Keinginanmu dengan Disk...   \n",
       "99  Lebih dari itu, di tahun 2015 pun kami meresmi...   \n",
       "\n",
       "                         timestamp         username  \n",
       "0   Sat Dec 07 14:03:16 +0000 2019         fuulllan  \n",
       "1   Sat Dec 07 13:49:36 +0000 2019  fourtyfiveradio  \n",
       "2   Sat Dec 07 13:49:12 +0000 2019        CIMBNiaga  \n",
       "3   Sat Dec 07 13:38:53 +0000 2019         agasvyra  \n",
       "4   Sat Dec 07 13:37:25 +0000 2019   faisalsalim861  \n",
       "..                             ...              ...  \n",
       "95  Fri Dec 06 19:32:32 +0000 2019        cahgadget  \n",
       "96  Fri Dec 06 19:14:03 +0000 2019     YoungsterID_  \n",
       "97  Fri Dec 06 19:00:25 +0000 2019      GizmologiID  \n",
       "98  Fri Dec 06 18:46:17 +0000 2019         phrinses  \n",
       "99  Fri Dec 06 18:25:02 +0000 2019        mrbambang  \n",
       "\n",
       "[100 rows x 3 columns]"
      ]
     },
     "execution_count": 69,
     "metadata": {},
     "output_type": "execute_result"
    }
   ],
   "source": [
    "import pandas as pd\n",
    "df=pd.DataFrame(data_list)\n",
    "df"
   ]
  },
  {
   "cell_type": "markdown",
   "metadata": {},
   "source": [
    "## menyimpan ke dalam xlsx"
   ]
  },
  {
   "cell_type": "code",
   "execution_count": 70,
   "metadata": {},
   "outputs": [],
   "source": [
    "writer = pd.ExcelWriter('result.xlsx')\n",
    "df.to_excel(writer,'Sheet1',index=False)\n",
    "writer.save()"
   ]
  },
  {
   "cell_type": "markdown",
   "metadata": {},
   "source": [
    "## menyimpan ke dalam csv"
   ]
  },
  {
   "cell_type": "code",
   "execution_count": 71,
   "metadata": {},
   "outputs": [],
   "source": [
    "df.to_csv('result.csv',index=False)"
   ]
  }
 ],
 "metadata": {
  "kernelspec": {
   "display_name": "Python 3",
   "language": "python",
   "name": "python3"
  },
  "language_info": {
   "codemirror_mode": {
    "name": "ipython",
    "version": 3
   },
   "file_extension": ".py",
   "mimetype": "text/x-python",
   "name": "python",
   "nbconvert_exporter": "python",
   "pygments_lexer": "ipython3",
   "version": "3.7.5"
  }
 },
 "nbformat": 4,
 "nbformat_minor": 2
}
